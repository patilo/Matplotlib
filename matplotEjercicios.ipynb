{
 "cells": [
  {
   "cell_type": "markdown",
   "id": "2e0c6820",
   "metadata": {},
   "source": [
    "# nos sirve para graficar, visualizar y estudiar la tendencia entre\n",
    "# variables"
   ]
  },
  {
   "cell_type": "markdown",
   "id": "2db5a23a",
   "metadata": {},
   "source": [
    "usaremos pandas y matplot\n",
    "por ende importamos ambos"
   ]
  },
  {
   "cell_type": "code",
   "execution_count": 13,
   "id": "2c1e66a0",
   "metadata": {},
   "outputs": [
    {
     "data": {
      "text/plain": [
       "<function matplotlib.pyplot.show(close=None, block=None)>"
      ]
     },
     "execution_count": 13,
     "metadata": {},
     "output_type": "execute_result"
    },
    {
     "data": {
      "image/png": "[encoded data removed]",
      "text/plain": [
       "<Figure size 432x288 with 1 Axes>"
      ]
     },
     "metadata": {
      "needs_background": "light"
     },
     "output_type": "display_data"
    }
   ],
   "source": [
    "import matplotlib.pyplot as plt\n",
    "#damos los ejer X e Y (X horizontal  -  ) (Y es vertical  I  )\n",
    "x=[1,2,3,4,5]\n",
    "y=[1,8,27,64,125]\n",
    "#guardamos las variables en plt para hacer una grafica de lineas\n",
    "plt.plot(x,y)\n",
    "plt.show"
   ]
  },
  {
   "cell_type": "code",
   "execution_count": 18,
   "id": "1694f559",
   "metadata": {},
   "outputs": [
    {
     "data": {
      "text/html": [
       "<div>\n",
       "<style scoped>\n",
       "    .dataframe tbody tr th:only-of-type {\n",
       "        vertical-align: middle;\n",
       "    }\n",
       "\n",
       "    .dataframe tbody tr th {\n",
       "        vertical-align: top;\n",
       "    }\n",
       "\n",
       "    .dataframe thead th {\n",
       "        text-align: right;\n",
       "    }\n",
       "</style>\n",
       "<table border=\"1\" class=\"dataframe\">\n",
       "  <thead>\n",
       "    <tr style=\"text-align: right;\">\n",
       "      <th></th>\n",
       "      <th>Nombre</th>\n",
       "      <th>Cantidad</th>\n",
       "      <th>Es_FB</th>\n",
       "      <th>Año</th>\n",
       "    </tr>\n",
       "  </thead>\n",
       "  <tbody>\n",
       "    <tr>\n",
       "      <th>0</th>\n",
       "      <td>Facebook</td>\n",
       "      <td>8833</td>\n",
       "      <td>True</td>\n",
       "      <td>2006</td>\n",
       "    </tr>\n",
       "    <tr>\n",
       "      <th>1</th>\n",
       "      <td>Twitter</td>\n",
       "      <td>8575</td>\n",
       "      <td>False</td>\n",
       "      <td>2008</td>\n",
       "    </tr>\n",
       "    <tr>\n",
       "      <th>2</th>\n",
       "      <td>Instagram</td>\n",
       "      <td>7575</td>\n",
       "      <td>True</td>\n",
       "      <td>2010</td>\n",
       "    </tr>\n",
       "    <tr>\n",
       "      <th>3</th>\n",
       "      <td>Whatsapp</td>\n",
       "      <td>8828</td>\n",
       "      <td>True</td>\n",
       "      <td>2009</td>\n",
       "    </tr>\n",
       "    <tr>\n",
       "      <th>4</th>\n",
       "      <td>Telegram</td>\n",
       "      <td>2992</td>\n",
       "      <td>False</td>\n",
       "      <td>2010</td>\n",
       "    </tr>\n",
       "    <tr>\n",
       "      <th>5</th>\n",
       "      <td>Linkdin</td>\n",
       "      <td>7277</td>\n",
       "      <td>False</td>\n",
       "      <td>2012</td>\n",
       "    </tr>\n",
       "  </tbody>\n",
       "</table>\n",
       "</div>"
      ],
      "text/plain": [
       "      Nombre  Cantidad  Es_FB   Año\n",
       "0   Facebook      8833   True  2006\n",
       "1    Twitter      8575  False  2008\n",
       "2  Instagram      7575   True  2010\n",
       "3   Whatsapp      8828   True  2009\n",
       "4   Telegram      2992  False  2010\n",
       "5    Linkdin      7277  False  2012"
      ]
     },
     "execution_count": 18,
     "metadata": {},
     "output_type": "execute_result"
    }
   ],
   "source": [
    "import pandas as pd\n",
    "#crearemos nuestra tabla y la guardaremos con pandas\n",
    "fb = ['Facebook', 8833, True, 2006]\n",
    "twt = ['Twitter', 8575, False, 2008]\n",
    "ig = ['Instagram', 7575, True, 2010]\n",
    "wsp = ['Whatsapp', 8828, True, 2009]\n",
    "tel = ['Telegram', 2992, False, 2010]\n",
    "lkn = ['Linkdin', 7277, False, 2012]\n",
    "\n",
    "lista_rrss=[fb,twt,ig,wsp,tel,lkn]\n",
    "\n",
    "df_rrss=pd.DataFrame(lista_rrss,\n",
    "                    columns = ['Nombre', 'Cantidad', 'Es_FB', 'Año'])\n",
    "df_rrss"
   ]
  },
  {
   "cell_type": "markdown",
   "id": "a82d83d4",
   "metadata": {},
   "source": [
    "ahora importamos las lib de matplot"
   ]
  },
  {
   "cell_type": "code",
   "execution_count": 19,
   "id": "cf30ccc2",
   "metadata": {},
   "outputs": [
    {
     "data": {
      "text/plain": [
       "<function matplotlib.pyplot.show(close=None, block=None)>"
      ]
     },
     "execution_count": 19,
     "metadata": {},
     "output_type": "execute_result"
    },
    {
     "data": {
      "image/png": "[encoded data removed]",
      "text/plain": [
       "<Figure size 432x288 with 1 Axes>"
      ]
     },
     "metadata": {
      "needs_background": "light"
     },
     "output_type": "display_data"
    }
   ],
   "source": [
    "#ahora crearemos una grafica de lineas con la lista_rrss\n",
    "plt.plot(df_rrss['Nombre'], df_rrss['Cantidad'])\n",
    "plt.show"
   ]
  },
  {
   "cell_type": "code",
   "execution_count": 20,
   "id": "4aba9ad3",
   "metadata": {},
   "outputs": [
    {
     "data": {
      "text/plain": [
       "<function matplotlib.pyplot.show(close=None, block=None)>"
      ]
     },
     "execution_count": 20,
     "metadata": {},
     "output_type": "execute_result"
    },
    {
     "data": {
      "image/png": "[encoded data removed]",
      "text/plain": [
       "<Figure size 432x288 with 1 Axes>"
      ]
     },
     "metadata": {
      "needs_background": "light"
     },
     "output_type": "display_data"
    }
   ],
   "source": [
    "#ahora crearemos una de puntos, esta nos sirve para cuando son lineales\n",
    "plt.scatter(df_rrss['Nombre'], df_rrss['Cantidad'])\n",
    "plt.show"
   ]
  },
  {
   "cell_type": "markdown",
   "id": "2e9ea963",
   "metadata": {},
   "source": [
    "# para optimizar el grafico usaremos la forma de\n",
    "# lista.plot(kind='tipografico', x='nombre', y='nombre')\n",
    "# luego\n",
    "# plt.show"
   ]
  },
  {
   "cell_type": "raw",
   "id": "5e2e6e72",
   "metadata": {},
   "source": [
    "AHORA VEREMOS LOS GRAFICOS DE BARRAS\n",
    "SON BUENAS PARA CONTEOS Y RESUMEN ADEMAS\n",
    "DE SER FACILES"
   ]
  },
  {
   "cell_type": "code",
   "execution_count": 22,
   "id": "a9d9807c",
   "metadata": {},
   "outputs": [
    {
     "data": {
      "text/plain": [
       "<function matplotlib.pyplot.show(close=None, block=None)>"
      ]
     },
     "execution_count": 22,
     "metadata": {},
     "output_type": "execute_result"
    },
    {
     "data": {
      "image/png": "[encoded data removed]",
      "text/plain": [
       "<Figure size 432x288 with 1 Axes>"
      ]
     },
     "metadata": {
      "needs_background": "light"
     },
     "output_type": "display_data"
    }
   ],
   "source": [
    "plt.bar(df_rrss['Nombre'], df_rrss['Cantidad'])\n",
    "plt.show"
   ]
  },
  {
   "cell_type": "code",
   "execution_count": 26,
   "id": "95edbf2b",
   "metadata": {},
   "outputs": [
    {
     "data": {
      "text/plain": [
       "<function matplotlib.pyplot.show(close=None, block=None)>"
      ]
     },
     "execution_count": 26,
     "metadata": {},
     "output_type": "execute_result"
    },
    {
     "data": {
      "image/png": "[encoded data removed]",
      "text/plain": [
       "<Figure size 432x288 with 1 Axes>"
      ]
     },
     "metadata": {
      "needs_background": "light"
     },
     "output_type": "display_data"
    }
   ],
   "source": [
    "#ahora lo podemos ordenar\n",
    "#usamos el sort values para ordenar los valores y ascending false para\n",
    "#que sea decendente\n",
    "df_rrss_sort=df_rrss.sort_values('Cantidad', ascending=False)\n",
    "plt.bar(df_rrss_sort['Nombre'], df_rrss_sort['Cantidad'])\n",
    "plt.show"
   ]
  },
  {
   "cell_type": "code",
   "execution_count": 31,
   "id": "6b1395fe",
   "metadata": {},
   "outputs": [
    {
     "data": {
      "text/plain": [
       "<function matplotlib.pyplot.show(close=None, block=None)>"
      ]
     },
     "execution_count": 31,
     "metadata": {},
     "output_type": "execute_result"
    },
    {
     "data": {
      "image/png": "[encoded data removed]",
      "text/plain": [
       "<Figure size 432x288 with 1 Axes>"
      ]
     },
     "metadata": {
      "needs_background": "light"
     },
     "output_type": "display_data"
    }
   ],
   "source": [
    "#ahora le daremos colores a nuestrar barras\n",
    "plt.bar(df_rrss_sort['Nombre'], df_rrss_sort['Cantidad'],\n",
    "       color=['b', 'g', 'c', 'm', 'y', 'r'])\n",
    "plt.show"
   ]
  },
  {
   "cell_type": "markdown",
   "id": "4d9b6190",
   "metadata": {},
   "source": [
    "ESTE SERA UN GRAFICO DE TORTAS\n",
    "ESTE NO ES RECOMENDABLES MENOS EN 3D\n",
    "ES PARA VER 1 VARIABLE"
   ]
  },
  {
   "cell_type": "code",
   "execution_count": 32,
   "id": "fe01648f",
   "metadata": {},
   "outputs": [
    {
     "data": {
      "text/plain": [
       "<function matplotlib.pyplot.show(close=None, block=None)>"
      ]
     },
     "execution_count": 32,
     "metadata": {},
     "output_type": "execute_result"
    },
    {
     "data": {
      "image/png": "[encoded data removed]",
      "text/plain": [
       "<Figure size 432x288 with 1 Axes>"
      ]
     },
     "metadata": {},
     "output_type": "display_data"
    }
   ],
   "source": [
    "plt.pie(df_rrss['Cantidad'],\n",
    "       labels=df_rrss['Nombre'])\n",
    "plt.show"
   ]
  },
  {
   "cell_type": "code",
   "execution_count": null,
   "id": "132631b2",
   "metadata": {},
   "outputs": [],
   "source": []
  }
 ],
 "metadata": {
  "kernelspec": {
   "display_name": "Python 3 (ipykernel)",
   "language": "python",
   "name": "python3"
  },
  "language_info": {
   "codemirror_mode": {
    "name": "ipython",
    "version": 3
   },
   "file_extension": ".py",
   "mimetype": "text/x-python",
   "name": "python",
   "nbconvert_exporter": "python",
   "pygments_lexer": "ipython3",
   "version": "3.9.12"
  }
 },
 "nbformat": 4,
 "nbformat_minor": 5
}
